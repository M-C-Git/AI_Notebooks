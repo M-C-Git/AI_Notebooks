{
  "nbformat": 4,
  "nbformat_minor": 0,
  "metadata": {
    "colab": {
      "provenance": [],
      "mount_file_id": "13GfQlchhuL7OoGVng7HvsXhxRRKP71Sb",
      "authorship_tag": "ABX9TyOAe25JVlp4lyL+7P5o3k5b"
    },
    "kernelspec": {
      "name": "python3",
      "display_name": "Python 3"
    },
    "language_info": {
      "name": "python"
    }
  },
  "cells": [
    {
      "cell_type": "code",
      "execution_count": null,
      "metadata": {
        "id": "WaBD1OOKPOAp"
      },
      "outputs": [],
      "source": [
        "\"\"\"\n",
        "network.py\n",
        "~~~~~~~~~~\n",
        "\n",
        "A module to implement the stochastic gradient descent learning\n",
        "algorithm for a feedforward neural network.  Gradients are calculated\n",
        "using backpropagation.  Note that I have focused on making the code\n",
        "simple, easily readable, and easily modifiable.  It is not optimized,\n",
        "and omits many desirable features.\n",
        "\"\"\"\n",
        "\n",
        "#### Libraries\n",
        "# Standard library\n",
        "import random\n",
        "random.seed(250)\n",
        "\n",
        "# Third-party libraries\n",
        "import numpy as np\n",
        "\n",
        "class Network(object):\n",
        "\n",
        "    def __init__(self, sizes):\n",
        "        \"\"\"The list ``sizes`` contains the number of neurons in the\n",
        "        respective layers of the network.  For example, if the list\n",
        "        was [2, 3, 1] then it would be a three-layer network, with the\n",
        "        first layer containing 2 neurons, the second layer 3 neurons,\n",
        "        and the third layer 1 neuron.  The biases and weights for the\n",
        "        network are initialized randomly, using a Gaussian\n",
        "        distribution with mean 0, and variance 1.  Note that the first\n",
        "        layer is assumed to be an input layer, and by convention we\n",
        "        won't set any biases for those neurons, since biases are only\n",
        "        ever used in computing the outputs from later layers.\"\"\"\n",
        "        self.num_layers = len(sizes)\n",
        "        self.sizes = sizes\n",
        "        self.biases = [np.random.rand(y, 1) for y in sizes[1:]]\n",
        "        self.weights = [np.random.rand(y, x)\n",
        "                        for x, y in zip(sizes[:-1], sizes[1:])]\n",
        "\n",
        "    def feedforward(self, a):\n",
        "        \"\"\"Return the output of the network if ``a`` is input.\"\"\"\n",
        "        for b, w in zip(self.biases, self.weights):\n",
        "            a = self.sigmoid(np.dot(w, a)+b)\n",
        "        return a\n",
        "\n",
        "    def SGD(self, training_data, epochs, mini_batch_size, eta,                    # SGD is an gradient descent optimization function, which controls the descent steps.\n",
        "            test_data=None):\n",
        "        \"\"\"Train the neural network using mini-batch stochastic\n",
        "        gradient descent.  The ``training_data`` is a list of tuples\n",
        "        ``(x, y)`` representing the training inputs and the desired\n",
        "        outputs.  The other non-optional parameters are\n",
        "        self-explanatory.  If ``test_data`` is provided then the\n",
        "        network will be evaluated against the test data after each\n",
        "        epoch, and partial progress printed out.  This is useful for\n",
        "        tracking progress, but slows things down substantially.\"\"\"\n",
        "        if test_data: n_test = len(test_data)\n",
        "        n = len(training_data)\n",
        "        for j in range(epochs):                                                   # this loop is for gradient descent\n",
        "            random.shuffle(training_data)\n",
        "            mini_batches = [\n",
        "                training_data[k:k+mini_batch_size]\n",
        "                for k in range(0, n, mini_batch_size)]\n",
        "            for mini_batch in mini_batches:\n",
        "                self.w_update_batch(mini_batch, eta)\n",
        "            if test_data:\n",
        "                print (\"Epoch {0}: {1} / {2}\".format(j, self.evaluate(test_data), n_test))\n",
        "            else:\n",
        "                print (\"Epoch {0} complete\".format(j))\n",
        "\n",
        "    def w_update_batch(self, mini_batch, eta):\n",
        "        \"\"\"Update the network's weights and biases by applying\n",
        "        gradient descent using backpropagation to a single mini batch.\n",
        "        The ``mini_batch`` is a list of tuples ``(x, y)``, and ``eta``\n",
        "        is the learning rate.\"\"\"\n",
        "        nabla_b = [np.zeros(b.shape) for b in self.biases]\n",
        "        nabla_w = [np.zeros(w.shape) for w in self.weights]\n",
        "        for x, y in mini_batch:                                                   # this loop is to calcuate the gradients of the whole bactch in on gradient descent step\n",
        "            delta_nabla_b, delta_nabla_w = self.backpropagation(x, y)\n",
        "            nabla_b = [nb + dnb for nb, dnb in zip(nabla_b, delta_nabla_b)]         # accumulate gradients\n",
        "            nabla_w = [nw + dnw for nw, dnw in zip(nabla_w, delta_nabla_w)]\n",
        "        self.weights = [w-eta*nw/len(mini_batch)                                  # take aveage gradients of the mini_batch\n",
        "                        for w, nw in zip(self.weights, nabla_w)]\n",
        "        self.biases = [b-eta*nb/len(mini_batch)\n",
        "                       for b, nb in zip(self.biases, nabla_b)]\n",
        "\n",
        "    def backpropagation(self, x, y):\n",
        "        \"\"\"Return a tuple ``(nabla_b, nabla_w)`` representing the\n",
        "        gradient for the cost function C_x.  ``nabla_b`` and\n",
        "        ``nabla_w`` are layer-by-layer lists of numpy arrays, similar\n",
        "        to ``self.biases`` and ``self.weights``.\"\"\"\n",
        "        nabla_b = [np.zeros(b.shape) for b in self.biases]\n",
        "        nabla_w = [np.zeros(w.shape) for w in self.weights]\n",
        "        # feedforward\n",
        "        activation = x\n",
        "        activations = [x] # list to store all the activations, layer by layer\n",
        "        zs = [] # list to store all the z vectors, layer by layer\n",
        "        for b, w in zip(self.biases, self.weights):\n",
        "            z = np.dot(w, activation)+b                               # z is the current node middle state (input to activation) , neither the prior node output, nor the current node output\n",
        "            zs.append(z)                                              # zs contain the middle state of all hidden layers, and the output layer\n",
        "            activation = self.sigmoid(z)                              # activation is the output of each layer\n",
        "            activations.append(activation)                            # activations contain outputs of all layers, including input and output layer\n",
        "        # backward pass                                               # delta is theta, which is the loss function derivative against current node activation input Z\n",
        "        delta = self.cost_derivative(activations[-1], y)*self.sigmoid_prime(zs[-1])    # Output layer: delta = formula (2.8), which is derived from fromula (BP1); delta is the delta out of current layer\n",
        "\n",
        "        nabla_b[-1] = delta                                           # Output layer: derivative b = formula (BP3)\n",
        "        nabla_w[-1] = np.dot(delta, activations[-2].transpose())      # Output layer: derivative w = formula (2.10), which is derived from fromula (BP4)\n",
        "        # Note that the variable l in the loop below is used a little\n",
        "        # differently to the notation in Chapter 2 of the book.  Here,\n",
        "        # l = 1 means the last layer of neurons, l = 2 is the\n",
        "        # second-last layer, and so on.  It's a renumbering of the\n",
        "        # scheme in the book, used here to take advantage of the fact\n",
        "        # that Python can use negative indices in lists.\n",
        "        for l in range(2, self.num_layers):\n",
        "            z = zs[-l]\n",
        "            delta = np.dot(self.weights[-l+1].transpose(), delta)*self.sigmoid_prime(z)   # Hidden layer: delta = formula (BP2)\n",
        "\n",
        "            nabla_b[-l] = delta                                         # Hidden layer: derivative b = formula (BP3)\n",
        "            nabla_w[-l] = np.dot(delta, activations[-l-1].transpose())  # Hidden layer: derivative w = formula (2.10), which is derived from fromula (BP4)\n",
        "        return (nabla_b, nabla_w)\n",
        "\n",
        "    def evaluate(self, test_data):\n",
        "        \"\"\"Return the number of test inputs for which the neural\n",
        "        network outputs the correct result. Note that the neural\n",
        "        network's output is assumed to be the index of whichever\n",
        "        neuron in the final layer has the highest activation.\"\"\"\n",
        "        test_results = [(np.argmax(self.feedforward(x)), y)\n",
        "                        for (x, y) in test_data]\n",
        "        return sum(int(x == y) for (x, y) in test_results)\n",
        "\n",
        "    def cost_derivative(self, output_activations, y):\n",
        "        \"\"\"Return the vector of partial derivatives \\partial C_x /\n",
        "        \\partial a for the output activations.\"\"\"\n",
        "        return (output_activations-y)\n",
        "\n",
        "      #### Miscellaneous functions\n",
        "    def sigmoid(self, z):\n",
        "        \"\"\"The sigmoid function.\"\"\"\n",
        "        return 1.0/(1.0+np.exp(-z))\n",
        "\n",
        "    def sigmoid_prime(self, z):\n",
        "        \"\"\"Derivative of the sigmoid function.\"\"\"\n",
        "        return self.sigmoid(z)*(1-self.sigmoid(z))"
      ]
    },
    {
      "cell_type": "code",
      "source": [
        "from google.colab import drive\n",
        "drive.mount('/content/gdrive', force_remount=True)"
      ],
      "metadata": {
        "colab": {
          "base_uri": "https://localhost:8080/"
        },
        "id": "_oSzvqgx6pZN",
        "outputId": "f9eb039c-0096-4e01-974d-fd78fa529bce"
      },
      "execution_count": null,
      "outputs": [
        {
          "output_type": "stream",
          "name": "stdout",
          "text": [
            "Mounted at /content/gdrive\n"
          ]
        }
      ]
    },
    {
      "cell_type": "code",
      "source": [
        "import pandas as pd\n",
        "import numpy as np\n",
        "\n",
        "data = pd.read_csv('/content/gdrive/My Drive/breast_cancer/breast-cancer.csv')\n",
        "\n",
        "def normalization(vec):\n",
        "  return (vec-min(vec)) / (max(vec) - min(vec))\n",
        "\n",
        "x_data = data.drop(['id', 'diagnosis'], axis=1)\n",
        "x_data = np.array(x_data.apply(normalization))\n",
        "\n",
        "train_test_split = int(len(data) * 0.75)\n",
        "x_train = x_data[:train_test_split]\n",
        "x_test = x_data[train_test_split:]\n",
        "\n",
        "mapping = {'M':0, 'B':1}\n",
        "y_data = np.array(data['diagnosis'].replace(mapping))\n",
        "y_train = y_data[:train_test_split]\n",
        "y_test = y_data[train_test_split:]"
      ],
      "metadata": {
        "id": "Wtkb2_HvJOI2"
      },
      "execution_count": null,
      "outputs": []
    },
    {
      "cell_type": "code",
      "source": [
        "nn_structure = [x_train.shape[1],\n",
        "                x_train.shape[1],\n",
        "                int(x_train.shape[1]/2),\n",
        "                1]\n",
        "nn = Network(nn_structure)\n",
        "learning_rate = 0.001\n",
        "training_data = list(zip(x_train, y_train))\n",
        "test_data = list(zip(x_test, y_test))\n",
        "nn.SGD(training_data, 10, 50, learning_rate, test_data)"
      ],
      "metadata": {
        "colab": {
          "base_uri": "https://localhost:8080/"
        },
        "id": "KdpapJaUFgqf",
        "outputId": "47db0635-1de7-45b0-9d84-a062fc2be043"
      },
      "execution_count": null,
      "outputs": [
        {
          "output_type": "stream",
          "name": "stdout",
          "text": [
            "Epoch 0: 1 / 143\n",
            "Epoch 1: 1 / 143\n",
            "Epoch 2: 1 / 143\n",
            "Epoch 3: 1 / 143\n",
            "Epoch 4: 1 / 143\n",
            "Epoch 5: 1 / 143\n",
            "Epoch 6: 1 / 143\n",
            "Epoch 7: 1 / 143\n",
            "Epoch 8: 1 / 143\n",
            "Epoch 9: 1 / 143\n"
          ]
        }
      ]
    },
    {
      "cell_type": "code",
      "source": [
        "sizes = [3,3,1]\n",
        "[np.random.rand(y, x) for x, y in zip(sizes[:-1], sizes[1:])]"
      ],
      "metadata": {
        "colab": {
          "base_uri": "https://localhost:8080/"
        },
        "id": "Uwv35yARHbhD",
        "outputId": "a38f82e4-ffe1-4acd-a41b-e8bb761e666e"
      },
      "execution_count": null,
      "outputs": [
        {
          "output_type": "execute_result",
          "data": {
            "text/plain": [
              "[array([[0.24390526, 0.62290945, 0.88543243],\n",
              "        [0.13841514, 0.23140227, 0.02043831],\n",
              "        [0.24376074, 0.19075641, 0.0307523 ]]),\n",
              " array([[0.99655741, 0.60242146, 0.28976407]])]"
            ]
          },
          "metadata": {},
          "execution_count": 8
        }
      ]
    }
  ]
}